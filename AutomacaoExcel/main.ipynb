{
 "cells": [
  {
   "cell_type": "code",
   "execution_count": 14,
   "id": "eb9c48ae",
   "metadata": {},
   "outputs": [],
   "source": [
    "# Importando as bibliotecas necessárias para o projeto\n",
    "from openpyxl import load_workbook, worksheet, workbook\n",
    "import pandas as pd"
   ]
  },
  {
   "cell_type": "code",
   "execution_count": 15,
   "id": "cdc12095",
   "metadata": {},
   "outputs": [
    {
     "name": "stdout",
     "output_type": "stream",
     "text": [
      "['Planilha1', 'Planilha2']\n"
     ]
    }
   ],
   "source": [
    "# Variável para analisar o arquivo\n",
    "arquivo = load_workbook(\"arquivos/Alunos.xlsx\")\n",
    "\n",
    "# Para ver as abas que a planilha possui\n",
    "print(arquivo.sheetnames)"
   ]
  },
  {
   "cell_type": "code",
   "execution_count": null,
   "id": "6c2e50ce",
   "metadata": {},
   "outputs": [
    {
     "name": "stdout",
     "output_type": "stream",
     "text": [
      "<Worksheet \"Planilha1\">\n"
     ]
    }
   ],
   "source": [
    "# Pegar a aba ativa ou necessária\n",
    "aba_atual = arquivo.active\n",
    "# print(aba_atual)\n",
    " \n",
    "# Selecionar uma aba especifica\n",
    "aba_alunos = arquivo[\"Planilha1\"]\n",
    "print(aba_alunos)"
   ]
  },
  {
   "cell_type": "code",
   "execution_count": 17,
   "id": "0dade4e9",
   "metadata": {},
   "outputs": [
    {
     "name": "stdout",
     "output_type": "stream",
     "text": [
      "P1\n"
     ]
    }
   ],
   "source": [
    "#Selecionar células e apresentar o valor da mesma\n",
    "# print(aba_alunos[\"A1\"].value)\n",
    "valor_1 = aba_alunos[\"A1\"].value\n",
    "\n",
    "# Outra forma\n",
    "valor_2 = aba_alunos.cell(row=1, column=2).value\n",
    "print(valor_2)\n",
    "\n"
   ]
  },
  {
   "cell_type": "code",
   "execution_count": 18,
   "id": "279059b3",
   "metadata": {},
   "outputs": [
    {
     "name": "stdout",
     "output_type": "stream",
     "text": [
      "Prova 1\n"
     ]
    }
   ],
   "source": [
    "# Editando o valor de uma célula\n",
    "aba_alunos[\"B1\"].value = \"Prova 1\"\n",
    "\n",
    "# Salvando alteração\n",
    "arquivo.save(\"Alunos.xlsx\")\n",
    "\n",
    "# Ver novo valor\n",
    "print(aba_alunos[\"B1\"].value)"
   ]
  }
 ],
 "metadata": {
  "kernelspec": {
   "display_name": ".venv",
   "language": "python",
   "name": "python3"
  },
  "language_info": {
   "codemirror_mode": {
    "name": "ipython",
    "version": 3
   },
   "file_extension": ".py",
   "mimetype": "text/x-python",
   "name": "python",
   "nbconvert_exporter": "python",
   "pygments_lexer": "ipython3",
   "version": "3.13.7"
  }
 },
 "nbformat": 4,
 "nbformat_minor": 5
}
