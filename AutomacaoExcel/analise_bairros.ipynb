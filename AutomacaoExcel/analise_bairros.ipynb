{
 "cells": [
  {
   "cell_type": "markdown",
   "id": "1a416040",
   "metadata": {},
   "source": [
    "# Desafio de Bairros\n"
   ]
  },
  {
   "cell_type": "code",
   "execution_count": 100,
   "id": "46638412",
   "metadata": {},
   "outputs": [],
   "source": [
    "# Percorrer toda a base de dados \n",
    "# Para cada item:\n",
    "    # ver se o bairro já existe em uma aba, se não existir, criar aba\n",
    "    # Copiar os valores daquela linha e colocar na aba correspondente\n"
   ]
  },
  {
   "cell_type": "code",
   "execution_count": 101,
   "id": "2da5682f",
   "metadata": {},
   "outputs": [],
   "source": [
    "# Importando bibliotecas\n",
    "import pandas as pd\n",
    "from openpyxl import load_workbook, workbook, worksheet\n",
    "\n",
    "# Carregando a base de dados\n",
    "arquivo_bairros = load_workbook(\"arquivos/Bairros.xlsx\")\n",
    "\n"
   ]
  },
  {
   "cell_type": "code",
   "execution_count": 102,
   "id": "7d442b32",
   "metadata": {},
   "outputs": [
    {
     "name": "stdout",
     "output_type": "stream",
     "text": [
      "Essas são as abas existente:\n",
      "Base de Dados\n"
     ]
    }
   ],
   "source": [
    "# Visualizando as abas que existem na base \n",
    "abas = arquivo_bairros.sheetnames\n",
    "print('Essas são as abas existente:\\n' + abas[0])\n",
    "\n",
    "# Lendo apenas a aba que precisamos\n",
    "aba_baseados = arquivo_bairros[\"Base de Dados\"]\n",
    "# print(aba_baseados)"
   ]
  },
  {
   "cell_type": "code",
   "execution_count": 103,
   "id": "d227d375",
   "metadata": {},
   "outputs": [
    {
     "name": "stdout",
     "output_type": "stream",
     "text": [
      "2377\n"
     ]
    }
   ],
   "source": [
    "# Verificando a ultima linha\n",
    "ultima_linha = aba_baseados.max_row\n",
    "print(ultima_linha)"
   ]
  },
  {
   "cell_type": "code",
   "execution_count": 104,
   "id": "a4b76332",
   "metadata": {},
   "outputs": [],
   "source": [
    " # Criar uma aba com o bairro\n",
    "def criar_aba(bairro, lista_bairros):\n",
    "        \n",
    "    if bairro not in lista_bairros.sheetnames:\n",
    "            # Criando uma aba\n",
    "        lista_bairros.create_sheet(bairro)\n",
    "        \n",
    "        # Nova aba precisa ter os titulos/indices\n",
    "        nova_aba = lista_bairros[bairro]\n",
    "                \n",
    "        nova_aba[\"A1\"].value = 'Data de Nascimento'\n",
    "        nova_aba[\"B1\"].value = \"Pessoa\"\n",
    "        nova_aba[\"C1\"].value = \"Bairro\"\n",
    "        \n",
    "        return nova_aba\n",
    "    else:\n",
    "        return lista_bairros[bairro]"
   ]
  },
  {
   "cell_type": "code",
   "execution_count": 105,
   "id": "8fbe1d21",
   "metadata": {},
   "outputs": [],
   "source": [
    "# Transferir informações\n",
    "def transferir_informacoes_aba(aba_origem, aba_destino, linha_origem):\n",
    "    pass"
   ]
  },
  {
   "cell_type": "code",
   "execution_count": 106,
   "id": "1c479873",
   "metadata": {},
   "outputs": [],
   "source": [
    "# Percorrendo todas as linhas\n",
    "for linha in range(2, ultima_linha+1):\n",
    "    # Separando a coluna bairros\n",
    "    bairro = aba_baseados[f\"C{linha}\"].value\n",
    "    # print(bairro)\n",
    "\n",
    "    # Verificando se acabou a tabela\n",
    "    if not bairro:\n",
    "        break          \n",
    "\n",
    "    criar_aba(bairro, arquivo_bairros)\n",
    "            \n",
    "arquivo_bairros.save(\"Bairros5.xlsx\")\n",
    "\n",
    "\n",
    "    "
   ]
  }
 ],
 "metadata": {
  "kernelspec": {
   "display_name": ".venv",
   "language": "python",
   "name": "python3"
  },
  "language_info": {
   "codemirror_mode": {
    "name": "ipython",
    "version": 3
   },
   "file_extension": ".py",
   "mimetype": "text/x-python",
   "name": "python",
   "nbconvert_exporter": "python",
   "pygments_lexer": "ipython3",
   "version": "3.13.7"
  }
 },
 "nbformat": 4,
 "nbformat_minor": 5
}
