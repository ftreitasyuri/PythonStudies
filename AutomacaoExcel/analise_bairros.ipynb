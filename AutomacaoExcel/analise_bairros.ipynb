{
 "cells": [
  {
   "cell_type": "markdown",
   "id": "1a416040",
   "metadata": {},
   "source": [
    "# Desafio de Bairros\n"
   ]
  },
  {
   "cell_type": "code",
   "execution_count": 36,
   "id": "46638412",
   "metadata": {},
   "outputs": [],
   "source": [
    "# Percorrer toda a base de dados \n",
    "# Para cada item:\n",
    "    # ver se o bairro já existe em uma aba, se não existir, criar aba\n",
    "    # Copiar os valores daquela linha e colocar na aba correspondente\n"
   ]
  },
  {
   "cell_type": "code",
   "execution_count": 37,
   "id": "2da5682f",
   "metadata": {},
   "outputs": [],
   "source": [
    "# Importando bibliotecas\n",
    "import pandas as pd\n",
    "from openpyxl import load_workbook, workbook, worksheet\n",
    "\n",
    "# Carregando a base de dados\n",
    "arquivo_bairros = load_workbook(\"arquivos/Bairros.xlsx\")\n",
    "\n"
   ]
  },
  {
   "cell_type": "code",
   "execution_count": 38,
   "id": "7d442b32",
   "metadata": {},
   "outputs": [
    {
     "name": "stdout",
     "output_type": "stream",
     "text": [
      "Essas são as abas existente:\n",
      "Base de Dados\n"
     ]
    }
   ],
   "source": [
    "# Visualizando as abas que existem na base \n",
    "abas = arquivo_bairros.sheetnames\n",
    "print('Essas são as abas existente:\\n' + abas[0])\n",
    "\n",
    "# Lendo apenas a aba que precisamos\n",
    "aba_baseados = arquivo_bairros[\"Base de Dados\"]\n",
    "# print(aba_baseados)"
   ]
  },
  {
   "cell_type": "code",
   "execution_count": 39,
   "id": "d227d375",
   "metadata": {},
   "outputs": [
    {
     "name": "stdout",
     "output_type": "stream",
     "text": [
      "2377\n"
     ]
    }
   ],
   "source": [
    "# Verificando a ultima linha\n",
    "ultima_linha = aba_baseados.max_row\n",
    "print(ultima_linha)"
   ]
  },
  {
   "cell_type": "code",
   "execution_count": 42,
   "id": "a4b76332",
   "metadata": {},
   "outputs": [],
   "source": [
    " # Criar uma aba com o bairro\n",
    "def criar_aba(bairro, abas_bairros):\n",
    "        \n",
    "    if bairro not in abas_bairros:\n",
    "            # Criando uma aba\n",
    "        arquivo_bairros.create_sheet(bairro)"
   ]
  },
  {
   "cell_type": "code",
   "execution_count": 43,
   "id": "1c479873",
   "metadata": {},
   "outputs": [],
   "source": [
    "# Percorrendo todas as linhas\n",
    "for linha in range(2, ultima_linha+1):\n",
    "    # Separando a coluna bairros\n",
    "    bairro = aba_baseados[f\"C{linha}\"].value\n",
    "    # print(bairro)\n",
    "\n",
    "    # Verificando se acabou a tabela\n",
    "    if not bairro:\n",
    "        break          \n",
    "\n",
    "    criar_aba(bairro, abas)\n",
    "            \n",
    "    # Transferir as informações para aba correspondente\n",
    "    # aba_destino = aba_baseados[bairro]\n",
    "    # def transferir_informacoes_aba(aba_origem, aba_destino, linha_origem):\n",
    "    #     pass\n",
    "\n",
    "arquivo_bairros.save(\"Bairros2.xlsx\")\n",
    "\n",
    "\n",
    "    "
   ]
  }
 ],
 "metadata": {
  "kernelspec": {
   "display_name": ".venv",
   "language": "python",
   "name": "python3"
  },
  "language_info": {
   "codemirror_mode": {
    "name": "ipython",
    "version": 3
   },
   "file_extension": ".py",
   "mimetype": "text/x-python",
   "name": "python",
   "nbconvert_exporter": "python",
   "pygments_lexer": "ipython3",
   "version": "3.13.7"
  }
 },
 "nbformat": 4,
 "nbformat_minor": 5
}
