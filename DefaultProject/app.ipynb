{
 "cells": [
  {
   "cell_type": "code",
   "execution_count": 1,
   "id": "840318de",
   "metadata": {},
   "outputs": [
    {
     "name": "stdout",
     "output_type": "stream",
     "text": [
      "(1, 'Mrs. Marquise White I', 'patricia.hahn@example.org', '208-934-2590', datetime.datetime(2025, 8, 15, 22, 21, 50), datetime.datetime(2025, 8, 15, 22, 21, 50))\n",
      "(2, 'Garfield King', 'ora.shields@example.com', '+14097053528', datetime.datetime(2025, 8, 15, 22, 21, 50), datetime.datetime(2025, 8, 15, 22, 21, 50))\n",
      "(3, 'Ms. Lavinia Breitenberg MD', 'jaime65@example.org', '1-906-348-3052', datetime.datetime(2025, 8, 15, 22, 21, 50), datetime.datetime(2025, 8, 15, 22, 21, 50))\n",
      "(4, 'Leora Kohler', 'sgrady@example.org', '(573) 503-0914', datetime.datetime(2025, 8, 15, 22, 21, 50), datetime.datetime(2025, 8, 15, 22, 21, 50))\n",
      "(5, 'Dr. Fausto Schowalter', 'kgrant@example.net', '731.339.6623', datetime.datetime(2025, 8, 15, 22, 21, 50), datetime.datetime(2025, 8, 15, 22, 21, 50))\n",
      "(6, 'Llewellyn Roob', 'trenton.durgan@example.org', '(276) 201-2767', datetime.datetime(2025, 8, 15, 22, 21, 50), datetime.datetime(2025, 8, 15, 22, 21, 50))\n",
      "(7, 'Chandler Stark', 'klakin@example.org', '920-480-8715', datetime.datetime(2025, 8, 15, 22, 21, 50), datetime.datetime(2025, 8, 15, 22, 21, 50))\n",
      "(8, 'Angelina Mann MD', 'hyatt.jamar@example.org', '+1-203-509-3249', datetime.datetime(2025, 8, 15, 22, 21, 50), datetime.datetime(2025, 8, 15, 22, 21, 50))\n",
      "(9, 'Ms. Augustine Hauck', 'aadams@example.com', '+16783307411', datetime.datetime(2025, 8, 15, 22, 21, 50), datetime.datetime(2025, 8, 15, 22, 21, 50))\n",
      "(10, 'Prof. Myriam Treutel', 'zmiller@example.org', '+1 (402) 497-2040', datetime.datetime(2025, 8, 15, 22, 21, 50), datetime.datetime(2025, 8, 15, 22, 21, 50))\n",
      "(11, 'Lon Koelpin', 'ashly41@example.com', '+1 (308) 852-3527', datetime.datetime(2025, 8, 15, 22, 21, 50), datetime.datetime(2025, 8, 15, 22, 21, 50))\n",
      "(12, 'Ana Abshire DDS', 'inolan@example.com', '+1 (669) 435-8419', datetime.datetime(2025, 8, 15, 22, 21, 50), datetime.datetime(2025, 8, 15, 22, 21, 50))\n",
      "(13, 'Oran Marquardt', 'keira31@example.net', '+1 (301) 948-9586', datetime.datetime(2025, 8, 15, 22, 21, 50), datetime.datetime(2025, 8, 15, 22, 21, 50))\n",
      "(14, 'Prof. Dimitri Heathcote DDS', 'elenor.ankunding@example.com', '+1-801-400-6976', datetime.datetime(2025, 8, 15, 22, 21, 50), datetime.datetime(2025, 8, 15, 22, 21, 50))\n",
      "(15, 'Dr. Carroll Simonis', 'qwyman@example.net', '+15642889381', datetime.datetime(2025, 8, 15, 22, 21, 50), datetime.datetime(2025, 8, 15, 22, 21, 50))\n",
      "(16, 'Ms. Bridgette Thompson I', 'wswaniawski@example.org', '540-641-3066', datetime.datetime(2025, 8, 15, 22, 21, 50), datetime.datetime(2025, 8, 15, 22, 21, 50))\n",
      "(17, 'Karina Mraz V', 'kamren.wunsch@example.com', '678.299.3762', datetime.datetime(2025, 8, 15, 22, 21, 50), datetime.datetime(2025, 8, 15, 22, 21, 50))\n",
      "(19, 'Carli Schoen', 'hudson.nat@example.com', '+1 (831) 557-0520', datetime.datetime(2025, 8, 15, 22, 21, 50), datetime.datetime(2025, 8, 15, 22, 21, 50))\n",
      "(20, 'Brad Anderson', 'jayce69@example.net', '(629) 551-1458', datetime.datetime(2025, 8, 15, 22, 21, 50), datetime.datetime(2025, 8, 15, 22, 21, 50))\n",
      "(21, 'Ana Teste', 'ana.teste@teste.com', '11956874520', datetime.datetime(2025, 8, 15, 23, 15, 50), datetime.datetime(2025, 8, 15, 23, 15, 50))\n",
      "(22, 'Janaina Inaja', 'inaja@teste.com', '11925805460', datetime.datetime(2025, 8, 15, 23, 16, 32), datetime.datetime(2025, 8, 15, 23, 16, 32))\n",
      "(23, 'Matheus Santos', 'matheus.santos@teste.com', '11920568571', datetime.datetime(2025, 8, 15, 23, 20, 19), datetime.datetime(2025, 8, 15, 23, 20, 19))\n",
      "(24, 'teste teste', 'teste@teste.com', '1156905847', datetime.datetime(2025, 8, 15, 23, 20, 58), datetime.datetime(2025, 8, 15, 23, 20, 58))\n",
      "(25, 'teste teste', 'teste@teste12.com', '1156905847', datetime.datetime(2025, 8, 15, 23, 21, 36), datetime.datetime(2025, 8, 15, 23, 21, 36))\n"
     ]
    }
   ],
   "source": [
    "# print('Hello world!')\n",
    "\n",
    "import mysql.connector\n",
    "# Conectando com o banco\n",
    "conn = mysql.connector.connect(\n",
    "    host=\"localhost\",\n",
    "    user=\"root\",\n",
    "    password=\"\",\n",
    "    database=\"laravel-vue-inertia\"\n",
    "\n",
    ")\n",
    "\n",
    "cursor = conn.cursor()\n",
    "\n",
    "# Consulta simples\n",
    "cursor.execute(\"SELECT * FROM clients\")\n",
    "\n",
    "\n",
    "# Exibindo os resultados\n",
    "for row in cursor.fetchall():\n",
    "    print(row)\n"
   ]
  },
  {
   "cell_type": "code",
   "execution_count": 2,
   "id": "d86a1f8f",
   "metadata": {},
   "outputs": [],
   "source": [
    "# Fechando conexão\n",
    "cursor.close()\n",
    "conn.close()"
   ]
  }
 ],
 "metadata": {
  "kernelspec": {
   "display_name": ".venv",
   "language": "python",
   "name": "python3"
  },
  "language_info": {
   "codemirror_mode": {
    "name": "ipython",
    "version": 3
   },
   "file_extension": ".py",
   "mimetype": "text/x-python",
   "name": "python",
   "nbconvert_exporter": "python",
   "pygments_lexer": "ipython3",
   "version": "3.13.7"
  }
 },
 "nbformat": 4,
 "nbformat_minor": 5
}
