{
 "cells": [
  {
   "cell_type": "code",
   "execution_count": 1,
   "id": "7dff92a0",
   "metadata": {},
   "outputs": [
    {
     "data": {
      "text/plain": [
       "True"
      ]
     },
     "execution_count": 1,
     "metadata": {},
     "output_type": "execute_result"
    }
   ],
   "source": [
    "# Importações de libs\n",
    "\n",
    "import os\n",
    "from sqlalchemy import create_engine, text\n",
    "from urllib.parse import quote_plus\n",
    "from dotenv import load_dotenv\n",
    "\n",
    "# Carregar o env\n",
    "load_dotenv()\n"
   ]
  },
  {
   "cell_type": "code",
   "execution_count": 2,
   "id": "c85c5b64",
   "metadata": {},
   "outputs": [
    {
     "name": "stdout",
     "output_type": "stream",
     "text": [
      "@IDLbrasil3008\n"
     ]
    }
   ],
   "source": [
    "print(os.getenv(\"SNOWFLAKE_PASSWORD\"))"
   ]
  },
  {
   "cell_type": "code",
   "execution_count": 3,
   "id": "64579a1d",
   "metadata": {},
   "outputs": [],
   "source": [
    "# Pega as variáveis de ambiente\n",
    "user = os.getenv(\"SNOWFLAKE_USER\")\n",
    "password = os.getenv(\"SNOWFLAKE_PASSWORD\")\n",
    "account = os.getenv(\"SNOWFLAKE_ACCOUNT\")\n",
    "role = os.getenv(\"SNOWFLAKE_ROLE\")\n",
    "warehouse = os.getenv(\"SNOWFLAKE_WAREHOUSE\")\n",
    "database = os.getenv(\"SNOWFLAKE_DATABASE\")\n",
    "schema = os.getenv(\"SNOWFLAKE_SCHEMA\")\n",
    "\n",
    "\n",
    "# Escapar senha\n",
    "encoded_password = quote_plus(password)\n",
    "\n",
    "# Montar a connection string para snowflake\n",
    "connection_url = (\n",
    "    f\"snowflake://{user}:{encoded_password}@{account}/\"\n",
    "    f\"{database}/{schema}?warehouse={warehouse}&role={role}\"\n",
    "    )\n",
    "\n",
    "# Cria engine\n",
    "engine = create_engine(connection_url)"
   ]
  },
  {
   "cell_type": "code",
   "execution_count": 4,
   "id": "6b0931cc",
   "metadata": {},
   "outputs": [
    {
     "name": "stdout",
     "output_type": "stream",
     "text": [
      "Versão do SnowFlake 9.25.1\n",
      "- CHECKLIST\n"
     ]
    }
   ],
   "source": [
    "# Tentativa de conexão e select\n",
    "\n",
    "try:\n",
    "    with engine.connect() as connection:\n",
    "        result = connection.execute(text(\"SELECT current_version()\")).fetchone()\n",
    "        print(\"Versão do SnowFlake\", result[0])\n",
    "        \n",
    "        # Exemplo de consulta\n",
    "        tabelas = connection.execute(text(\"SHOW TABLES\")).fetchall()\n",
    "        for t in tabelas:\n",
    "            print(\"-\", t[1]) # Nome da tabela na segunda coluna do SHOW TABLES\n",
    "except Exception as e:\n",
    "    print(f\"Erro ao consultar: {e}\")\n",
    "finally:\n",
    "    # Fechar todo o engine\n",
    "    engine.dispose()"
   ]
  },
  {
   "cell_type": "code",
   "execution_count": 6,
   "id": "d8dd5413",
   "metadata": {},
   "outputs": [
    {
     "data": {
      "text/plain": [
       "True"
      ]
     },
     "execution_count": 6,
     "metadata": {},
     "output_type": "execute_result"
    }
   ],
   "source": [
    "import os\n",
    "import pandas as pd\n",
    "import snowflake.connector\n",
    "from dotenv import load_dotenv\n",
    "\n",
    "load_dotenv()\n"
   ]
  },
  {
   "cell_type": "code",
   "execution_count": 8,
   "id": "f93ef866",
   "metadata": {},
   "outputs": [
    {
     "name": "stdout",
     "output_type": "stream",
     "text": [
      "              ARQUIVO              IMPRESSAO_GERADA                     TITULO\n",
      "0  checklist_0041.pdf  -20014-05-10 08:44:25.489408  CHECK LIST - EMPILHADEIRA\n",
      "1  checklist_0019.pdf   33223-06-08 19:24:25.489408  CHECK LIST - EMPILHADEIRA\n",
      "2  checklist_0196.pdf   35124-10-05 05:04:25.489408    CHECK LIST - PLATAFORMA\n",
      "3  checklist_0077.pdf   65545-12-13 08:44:25.489408       CHECK LIST - ESTEIRA\n",
      "4  checklist_0194.pdf  246171-10-04 13:04:25.489408    CHECK LIST - PLATAFORMA\n",
      "5  checklist_0105.pdf -234657-01-22 19:20:46.386176       CHECK LIST - ESTEIRA\n",
      "6  checklist_0195.pdf -166210-09-25 19:20:46.386176    CHECK LIST - PLATAFORMA\n",
      "7  checklist_0008.pdf  -33117-06-08 21:00:46.386176     CHECK LIST - PALETEIRA\n",
      "8  checklist_0116.pdf  128496-01-01 16:40:46.386176    CHECK LIST - PLATAFORMA\n",
      "9  checklist_0037.pdf -138537-02-11 13:58:56.834560  CHECK LIST - EMPILHADEIRA\n"
     ]
    }
   ],
   "source": [
    "import os\n",
    "import pandas as pd\n",
    "import snowflake.connector\n",
    "from dotenv import load_dotenv\n",
    "\n",
    "load_dotenv()\n",
    "\n",
    "conn = snowflake.connector.connect(\n",
    "    user=os.getenv(\"SNOWFLAKE_USER\"),\n",
    "    password=os.getenv(\"SNOWFLAKE_PASSWORD\"),\n",
    "    account=os.getenv(\"SNOWFLAKE_ACCOUNT\"),\n",
    "    warehouse=os.getenv(\"SNOWFLAKE_WAREHOUSE\"),\n",
    "    database=os.getenv(\"SNOWFLAKE_DATABASE\"),\n",
    "    schema=os.getenv(\"SNOWFLAKE_SCHEMA\"),\n",
    "    role=os.getenv(\"SNOWFLAKE_ROLE\")\n",
    ")\n",
    "\n",
    "try:\n",
    "    cur = conn.cursor()\n",
    "    cur.execute(\"SELECT * FROM CHECKLIST LIMIT 10\")\n",
    "    df = cur.fetch_pandas_all()  # aqui funciona ✔️\n",
    "    print(df)\n",
    "finally:\n",
    "    cur.close()\n",
    "    conn.close()\n"
   ]
  }
 ],
 "metadata": {
  "kernelspec": {
   "display_name": ".venv",
   "language": "python",
   "name": "python3"
  },
  "language_info": {
   "codemirror_mode": {
    "name": "ipython",
    "version": 3
   },
   "file_extension": ".py",
   "mimetype": "text/x-python",
   "name": "python",
   "nbconvert_exporter": "python",
   "pygments_lexer": "ipython3",
   "version": "3.13.7"
  }
 },
 "nbformat": 4,
 "nbformat_minor": 5
}
