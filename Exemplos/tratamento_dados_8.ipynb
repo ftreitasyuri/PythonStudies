{
 "cells": [
  {
   "cell_type": "code",
   "execution_count": 24,
   "id": "810d85e9",
   "metadata": {},
   "outputs": [],
   "source": [
    "import pandas as pd\n",
    "import openpyxl\n",
    "\n",
    "# Importando base\n",
    "tabela = pd.read_csv('dados_baguncados.csv')\n",
    "\n",
    "\n"
   ]
  },
  {
   "cell_type": "code",
   "execution_count": 25,
   "id": "7c8bc6ef",
   "metadata": {},
   "outputs": [
    {
     "name": "stdout",
     "output_type": "stream",
     "text": [
      "       produto         categoria  quantidade  preco_unitario  data_venda  \\\n",
      "0      Monitor  eletrodomésticos         5.0         1500.50  15/04/2024   \n",
      "1      Cadeira  eletrodomésticos         5.0          250.75  31/01/2024   \n",
      "2      Teclado  eletrodomésticos        20.0          500.00  01/01/2024   \n",
      "3      Cadeira       eletrônicos         5.0         1500.50  15/02/2024   \n",
      "4      Cadeira       eletrônicos        20.0          500.00  16/01/2024   \n",
      "5        Mouse  eletrodomésticos        15.0          250.75  15/04/2024   \n",
      "6      Teclado  eletrodomésticos        20.0          250.75  15/02/2024   \n",
      "7      Teclado       eletrônicos        15.0         1500.50  16/01/2024   \n",
      "8      Teclado       eletrônicos         NaN          250.75  16/03/2024   \n",
      "9      Cadeira       eletrônicos        10.0         1200.00  16/03/2024   \n",
      "10     Monitor        acessórios        20.0          250.75  15/05/2024   \n",
      "11     Teclado        acessórios        10.0          500.00  15/02/2024   \n",
      "12  Impressora        acessórios        20.0          500.00  16/03/2024   \n",
      "13     Cadeira  eletrodomésticos        20.0          500.00  16/01/2024   \n",
      "14       Mouse        acessórios        10.0          500.00  15/05/2024   \n",
      "\n",
      "         cliente_email  uf  coluna_inutil  \n",
      "0   cliente4@email.com  PR            NaN  \n",
      "1   CLIENTE2@email.com  sp            NaN  \n",
      "2   cliente2@email.com  PR            NaN  \n",
      "3   cliente4@email.com  PR            NaN  \n",
      "4   cliente4@email.com  SP            NaN  \n",
      "5   cliente1@email.com  SP            NaN  \n",
      "6   cliente5@email.com  sp            NaN  \n",
      "7   cliente5@email.com  SP            NaN  \n",
      "8   cliente2@email.com  BA            NaN  \n",
      "9   cliente5@email.com  MG            NaN  \n",
      "10  cliente2@email.com  MG            NaN  \n",
      "11  cliente1@email.com  SP            NaN  \n",
      "12  cliente4@email.com  MG            NaN  \n",
      "13  cliente4@email.com  MG            NaN  \n",
      "14  cliente4@email.com  SP            NaN  \n"
     ]
    }
   ],
   "source": [
    "# Padronizando colunas\n",
    "tabela.columns = tabela.columns.str.strip().str.lower()\n",
    "print(tabela)"
   ]
  },
  {
   "cell_type": "code",
   "execution_count": 26,
   "id": "89c809aa",
   "metadata": {},
   "outputs": [
    {
     "name": "stdout",
     "output_type": "stream",
     "text": [
      "       produto         categoria  quantidade  preco_unitario  data_venda  \\\n",
      "0      Monitor  eletrodomésticos         5.0         1500.50  15/04/2024   \n",
      "1      Cadeira  eletrodomésticos         5.0          250.75  31/01/2024   \n",
      "2      Teclado  eletrodomésticos        20.0          500.00  01/01/2024   \n",
      "3      Cadeira       eletrônicos         5.0         1500.50  15/02/2024   \n",
      "4      Cadeira       eletrônicos        20.0          500.00  16/01/2024   \n",
      "5        Mouse  eletrodomésticos        15.0          250.75  15/04/2024   \n",
      "6      Teclado  eletrodomésticos        20.0          250.75  15/02/2024   \n",
      "7      Teclado       eletrônicos        15.0         1500.50  16/01/2024   \n",
      "8      Teclado       eletrônicos         NaN          250.75  16/03/2024   \n",
      "9      Cadeira       eletrônicos        10.0         1200.00  16/03/2024   \n",
      "10     Monitor        acessórios        20.0          250.75  15/05/2024   \n",
      "11     Teclado        acessórios        10.0          500.00  15/02/2024   \n",
      "12  Impressora        acessórios        20.0          500.00  16/03/2024   \n",
      "13     Cadeira  eletrodomésticos        20.0          500.00  16/01/2024   \n",
      "14       Mouse        acessórios        10.0          500.00  15/05/2024   \n",
      "\n",
      "         cliente_email  uf  coluna_inutil  \n",
      "0   cliente4@email.com  PR            NaN  \n",
      "1   CLIENTE2@email.com  sp            NaN  \n",
      "2   cliente2@email.com  PR            NaN  \n",
      "3   cliente4@email.com  PR            NaN  \n",
      "4   cliente4@email.com  SP            NaN  \n",
      "5   cliente1@email.com  SP            NaN  \n",
      "6   cliente5@email.com  sp            NaN  \n",
      "7   cliente5@email.com  SP            NaN  \n",
      "8   cliente2@email.com  BA            NaN  \n",
      "9   cliente5@email.com  MG            NaN  \n",
      "10  cliente2@email.com  MG            NaN  \n",
      "11  cliente1@email.com  SP            NaN  \n",
      "12  cliente4@email.com  MG            NaN  \n",
      "13  cliente4@email.com  MG            NaN  \n",
      "14  cliente4@email.com  SP            NaN  \n"
     ]
    }
   ],
   "source": [
    "# Remover duplicatas da tabela inteira\n",
    "tabela = tabela.drop_duplicates()\n",
    "print(tabela)"
   ]
  },
  {
   "cell_type": "code",
   "execution_count": null,
   "id": "097f0bd8",
   "metadata": {},
   "outputs": [],
   "source": [
    "# Remover duplicatas de uma coluna especifica\n",
    "# tabela = tabela.drop_duplicates(subset=\"data_venda\")\n",
    "# print(tabela)"
   ]
  },
  {
   "cell_type": "code",
   "execution_count": 29,
   "id": "945be1dc",
   "metadata": {},
   "outputs": [
    {
     "name": "stdout",
     "output_type": "stream",
     "text": [
      "       produto         categoria  quantidade  preco_unitario  data_venda  \\\n",
      "0      Monitor  eletrodomésticos         5.0         1500.50  15/04/2024   \n",
      "1      Cadeira  eletrodomésticos         5.0          250.75  31/01/2024   \n",
      "2      Teclado  eletrodomésticos        20.0          500.00  01/01/2024   \n",
      "3      Cadeira       eletrônicos         5.0         1500.50  15/02/2024   \n",
      "4      Cadeira       eletrônicos        20.0          500.00  16/01/2024   \n",
      "5        Mouse  eletrodomésticos        15.0          250.75  15/04/2024   \n",
      "6      Teclado  eletrodomésticos        20.0          250.75  15/02/2024   \n",
      "7      Teclado       eletrônicos        15.0         1500.50  16/01/2024   \n",
      "8      Teclado       eletrônicos         NaN          250.75  16/03/2024   \n",
      "9      Cadeira       eletrônicos        10.0         1200.00  16/03/2024   \n",
      "10     Monitor        acessórios        20.0          250.75  15/05/2024   \n",
      "11     Teclado        acessórios        10.0          500.00  15/02/2024   \n",
      "12  Impressora        acessórios        20.0          500.00  16/03/2024   \n",
      "13     Cadeira  eletrodomésticos        20.0          500.00  16/01/2024   \n",
      "14       Mouse        acessórios        10.0          500.00  15/05/2024   \n",
      "\n",
      "         cliente_email  uf  \n",
      "0   cliente4@email.com  PR  \n",
      "1   CLIENTE2@email.com  sp  \n",
      "2   cliente2@email.com  PR  \n",
      "3   cliente4@email.com  PR  \n",
      "4   cliente4@email.com  SP  \n",
      "5   cliente1@email.com  SP  \n",
      "6   cliente5@email.com  sp  \n",
      "7   cliente5@email.com  SP  \n",
      "8   cliente2@email.com  BA  \n",
      "9   cliente5@email.com  MG  \n",
      "10  cliente2@email.com  MG  \n",
      "11  cliente1@email.com  SP  \n",
      "12  cliente4@email.com  MG  \n",
      "13  cliente4@email.com  MG  \n",
      "14  cliente4@email.com  SP  \n"
     ]
    }
   ],
   "source": [
    "# Remover colunas com todos os valores vazios com NaN\n",
    "tabela = tabela.dropna(axis=1, how=\"all\")\n",
    "\n",
    "# Remover colunas com alguns valores vazios com NaN\n",
    "# tabela = tabela.dropna(axis=1, how=any)\n",
    "print(tabela)"
   ]
  },
  {
   "cell_type": "code",
   "execution_count": null,
   "id": "7c7cb97f",
   "metadata": {},
   "outputs": [
    {
     "name": "stdout",
     "output_type": "stream",
     "text": [
      "<class 'pandas.core.frame.DataFrame'>\n",
      "RangeIndex: 15 entries, 0 to 14\n",
      "Data columns (total 7 columns):\n",
      " #   Column          Non-Null Count  Dtype         \n",
      "---  ------          --------------  -----         \n",
      " 0   produto         15 non-null     object        \n",
      " 1   categoria       15 non-null     object        \n",
      " 2   quantidade      14 non-null     float64       \n",
      " 3   preco_unitario  15 non-null     float64       \n",
      " 4   data_venda      15 non-null     datetime64[ns]\n",
      " 5   cliente_email   15 non-null     object        \n",
      " 6   uf              15 non-null     object        \n",
      "dtypes: datetime64[ns](1), float64(2), object(4)\n",
      "memory usage: 972.0+ bytes\n",
      "None\n"
     ]
    },
    {
     "name": "stderr",
     "output_type": "stream",
     "text": [
      "C:\\Users\\yqueiroz\\AppData\\Local\\Temp\\ipykernel_14276\\3435812367.py:3: UserWarning: Parsing dates in %d/%m/%Y format when dayfirst=False (the default) was specified. Pass `dayfirst=True` or specify a format to silence this warning.\n",
      "  tabela[\"data_venda\"] = pd.to_datetime(tabela[\"data_venda\"], errors=\"coerce\")\n",
      "C:\\Users\\yqueiroz\\AppData\\Local\\Temp\\ipykernel_14276\\3435812367.py:3: SettingWithCopyWarning: \n",
      "A value is trying to be set on a copy of a slice from a DataFrame.\n",
      "Try using .loc[row_indexer,col_indexer] = value instead\n",
      "\n",
      "See the caveats in the documentation: https://pandas.pydata.org/pandas-docs/stable/user_guide/indexing.html#returning-a-view-versus-a-copy\n",
      "  tabela[\"data_venda\"] = pd.to_datetime(tabela[\"data_venda\"], errors=\"coerce\")\n"
     ]
    }
   ],
   "source": [
    "#Tratar os tipos dados\n",
    "\n",
    "tabela[\"data_venda\"] = pd.to_datetime(tabela[\"data_venda\"], errors=\"coerce\")\n",
    "\n",
    "# A função info() permite ver o tipo/valor dos dados da coluna e quantas celulas da mesma estão preenchidas\n",
    "print(tabela.info())\n",
    "\n"
   ]
  },
  {
   "cell_type": "code",
   "execution_count": 32,
   "id": "05d83a8b",
   "metadata": {},
   "outputs": [
    {
     "name": "stdout",
     "output_type": "stream",
     "text": [
      "<class 'pandas.core.frame.DataFrame'>\n",
      "RangeIndex: 15 entries, 0 to 14\n",
      "Data columns (total 7 columns):\n",
      " #   Column          Non-Null Count  Dtype         \n",
      "---  ------          --------------  -----         \n",
      " 0   produto         15 non-null     object        \n",
      " 1   categoria       15 non-null     object        \n",
      " 2   quantidade      15 non-null     float64       \n",
      " 3   preco_unitario  15 non-null     float64       \n",
      " 4   data_venda      15 non-null     datetime64[ns]\n",
      " 5   cliente_email   15 non-null     object        \n",
      " 6   uf              15 non-null     object        \n",
      "dtypes: datetime64[ns](1), float64(2), object(4)\n",
      "memory usage: 972.0+ bytes\n",
      "None\n"
     ]
    },
    {
     "name": "stderr",
     "output_type": "stream",
     "text": [
      "C:\\Users\\yqueiroz\\AppData\\Local\\Temp\\ipykernel_14276\\3070931065.py:5: SettingWithCopyWarning: \n",
      "A value is trying to be set on a copy of a slice from a DataFrame.\n",
      "Try using .loc[row_indexer,col_indexer] = value instead\n",
      "\n",
      "See the caveats in the documentation: https://pandas.pydata.org/pandas-docs/stable/user_guide/indexing.html#returning-a-view-versus-a-copy\n",
      "  tabela[\"quantidade\"] = tabela[\"quantidade\"].fillna(tabela['quantidade'].mean())\n"
     ]
    }
   ],
   "source": [
    "#Tratar linhas com valores vazios\n",
    "\n",
    "# Vamos preencher o valor vazio na coluna quantidade com a media dos outros valores\n",
    "\n",
    "tabela[\"quantidade\"] = tabela[\"quantidade\"].fillna(tabela['quantidade'].mean()) \n",
    "print(tabela.info())"
   ]
  },
  {
   "cell_type": "code",
   "execution_count": 33,
   "id": "18dcd9c5",
   "metadata": {},
   "outputs": [
    {
     "name": "stdout",
     "output_type": "stream",
     "text": [
      "       produto         categoria  quantidade  preco_unitario data_venda  \\\n",
      "0      Monitor  eletrodomésticos    5.000000         1500.50 2024-04-15   \n",
      "1      Cadeira  eletrodomésticos    5.000000          250.75 2024-01-31   \n",
      "2      Teclado  eletrodomésticos   20.000000          500.00 2024-01-01   \n",
      "3      Cadeira       eletrônicos    5.000000         1500.50 2024-02-15   \n",
      "4      Cadeira       eletrônicos   20.000000          500.00 2024-01-16   \n",
      "5        Mouse  eletrodomésticos   15.000000          250.75 2024-04-15   \n",
      "6      Teclado  eletrodomésticos   20.000000          250.75 2024-02-15   \n",
      "7      Teclado       eletrônicos   15.000000         1500.50 2024-01-16   \n",
      "8      Teclado       eletrônicos   13.928571          250.75 2024-03-16   \n",
      "9      Cadeira       eletrônicos   10.000000         1200.00 2024-03-16   \n",
      "10     Monitor        acessórios   20.000000          250.75 2024-05-15   \n",
      "11     Teclado        acessórios   10.000000          500.00 2024-02-15   \n",
      "12  Impressora        acessórios   20.000000          500.00 2024-03-16   \n",
      "13     Cadeira  eletrodomésticos   20.000000          500.00 2024-01-16   \n",
      "14       Mouse        acessórios   10.000000          500.00 2024-05-15   \n",
      "\n",
      "         cliente_email  uf  \n",
      "0   cliente4@email.com  PR  \n",
      "1   cliente2@email.com  SP  \n",
      "2   cliente2@email.com  PR  \n",
      "3   cliente4@email.com  PR  \n",
      "4   cliente4@email.com  SP  \n",
      "5   cliente1@email.com  SP  \n",
      "6   cliente5@email.com  SP  \n",
      "7   cliente5@email.com  SP  \n",
      "8   cliente2@email.com  BA  \n",
      "9   cliente5@email.com  MG  \n",
      "10  cliente2@email.com  MG  \n",
      "11  cliente1@email.com  SP  \n",
      "12  cliente4@email.com  MG  \n",
      "13  cliente4@email.com  MG  \n",
      "14  cliente4@email.com  SP  \n"
     ]
    },
    {
     "name": "stderr",
     "output_type": "stream",
     "text": [
      "C:\\Users\\yqueiroz\\AppData\\Local\\Temp\\ipykernel_14276\\4157879449.py:2: SettingWithCopyWarning: \n",
      "A value is trying to be set on a copy of a slice from a DataFrame.\n",
      "Try using .loc[row_indexer,col_indexer] = value instead\n",
      "\n",
      "See the caveats in the documentation: https://pandas.pydata.org/pandas-docs/stable/user_guide/indexing.html#returning-a-view-versus-a-copy\n",
      "  tabela[\"uf\"] = tabela[\"uf\"].str.upper()\n",
      "C:\\Users\\yqueiroz\\AppData\\Local\\Temp\\ipykernel_14276\\4157879449.py:3: SettingWithCopyWarning: \n",
      "A value is trying to be set on a copy of a slice from a DataFrame.\n",
      "Try using .loc[row_indexer,col_indexer] = value instead\n",
      "\n",
      "See the caveats in the documentation: https://pandas.pydata.org/pandas-docs/stable/user_guide/indexing.html#returning-a-view-versus-a-copy\n",
      "  tabela[\"cliente_email\"] = tabela[\"cliente_email\"].str.lower()\n"
     ]
    }
   ],
   "source": [
    "# Padronizando valores de texto\n",
    "tabela[\"uf\"] = tabela[\"uf\"].str.upper()\n",
    "tabela[\"cliente_email\"] = tabela[\"cliente_email\"].str.lower()\n",
    "\n",
    "print(tabela)"
   ]
  },
  {
   "cell_type": "code",
   "execution_count": 34,
   "id": "92a5991c",
   "metadata": {},
   "outputs": [
    {
     "name": "stdout",
     "output_type": "stream",
     "text": [
      "       produto         categoria  quantidade  preco_unitario data_venda  \\\n",
      "0      Monitor  eletrodomésticos    5.000000         1500.50 2024-04-15   \n",
      "1      Cadeira  eletrodomésticos    5.000000          250.75 2024-01-31   \n",
      "2      Teclado  eletrodomésticos   20.000000          500.00 2024-01-01   \n",
      "3      Cadeira       eletrônicos    5.000000         1500.50 2024-02-15   \n",
      "4      Cadeira       eletrônicos   20.000000          500.00 2024-01-16   \n",
      "5        Mouse  eletrodomésticos   15.000000          250.75 2024-04-15   \n",
      "6      Teclado  eletrodomésticos   20.000000          250.75 2024-02-15   \n",
      "7      Teclado       eletrônicos   15.000000         1500.50 2024-01-16   \n",
      "8      Teclado       eletrônicos   13.928571          250.75 2024-03-16   \n",
      "9      Cadeira       eletrônicos   10.000000         1200.00 2024-03-16   \n",
      "10     Monitor        acessórios   20.000000          250.75 2024-05-15   \n",
      "11     Teclado        acessórios   10.000000          500.00 2024-02-15   \n",
      "12  Impressora        acessórios   20.000000          500.00 2024-03-16   \n",
      "13     Cadeira  eletrodomésticos   20.000000          500.00 2024-01-16   \n",
      "14       Mouse        acessórios   10.000000          500.00 2024-05-15   \n",
      "\n",
      "         cliente_email  uf   faturamento  \n",
      "0   cliente4@email.com  PR   7502.500000  \n",
      "1   cliente2@email.com  SP   1253.750000  \n",
      "2   cliente2@email.com  PR  10000.000000  \n",
      "3   cliente4@email.com  PR   7502.500000  \n",
      "4   cliente4@email.com  SP  10000.000000  \n",
      "5   cliente1@email.com  SP   3761.250000  \n",
      "6   cliente5@email.com  SP   5015.000000  \n",
      "7   cliente5@email.com  SP  22507.500000  \n",
      "8   cliente2@email.com  BA   3492.589286  \n",
      "9   cliente5@email.com  MG  12000.000000  \n",
      "10  cliente2@email.com  MG   5015.000000  \n",
      "11  cliente1@email.com  SP   5000.000000  \n",
      "12  cliente4@email.com  MG  10000.000000  \n",
      "13  cliente4@email.com  MG  10000.000000  \n",
      "14  cliente4@email.com  SP   5000.000000  \n"
     ]
    }
   ],
   "source": [
    "# Criar colunas auxiliares\n",
    "\n",
    "tabela[\"faturamento\"] = tabela[\"quantidade\"] * tabela[\"preco_unitario\"]\n",
    "print(tabela)"
   ]
  },
  {
   "cell_type": "code",
   "execution_count": null,
   "id": "5e9ba168",
   "metadata": {},
   "outputs": [],
   "source": []
  }
 ],
 "metadata": {
  "kernelspec": {
   "display_name": ".venv",
   "language": "python",
   "name": "python3"
  },
  "language_info": {
   "codemirror_mode": {
    "name": "ipython",
    "version": 3
   },
   "file_extension": ".py",
   "mimetype": "text/x-python",
   "name": "python",
   "nbconvert_exporter": "python",
   "pygments_lexer": "ipython3",
   "version": "3.13.7"
  }
 },
 "nbformat": 4,
 "nbformat_minor": 5
}
