{
 "cells": [
  {
   "cell_type": "code",
   "execution_count": 5,
   "id": "6c6c780c",
   "metadata": {},
   "outputs": [],
   "source": [
    "import mysql.connector\n",
    "\n",
    "conexao = mysql.connector.connect(\n",
    "    host='localhost',\n",
    "    user='root',\n",
    "    password='',\n",
    "    database='laravel-vue-inertia'\n",
    ")\n",
    "# laravel-vue-inertia\n",
    "\n"
   ]
  },
  {
   "cell_type": "code",
   "execution_count": null,
   "id": "52eb007d",
   "metadata": {},
   "outputs": [
    {
     "name": "stdout",
     "output_type": "stream",
     "text": [
      "Cliente criado com sucesso!\n"
     ]
    }
   ],
   "source": [
    "# CREATE FROM CRUD\n",
    "cursor = conexao.cursor()\n",
    "try:\n",
    "    \n",
    "    nome = \"Marcos Paulo3\"\n",
    "    email = \"mpaulo3@teste.com\"\n",
    "    telefone = \"11943328933\"\n",
    "    # CREATE\n",
    "    comando = f'INSERT INTO clients (nome_cliente, email_cliente, telefone_cliente) VALUES (\"{nome}\", \"{email}\", \"{telefone}\")'\n",
    "\n",
    "    # Para executar a query\n",
    "    cursor.execute(comando)\n",
    "\n",
    "    # Para popular os dados no banco\n",
    "    conexao.commit()\n",
    "\n",
    "    # FIM CRUD\n",
    "\n",
    "    cursor.close()\n",
    "    conexao.close()\n",
    "    print(f\"Cliente criado com sucesso!\")\n",
    "except Exception as e:\n",
    "    print(f\"Erro ao criar o cliente{e}\")\n",
    "    "
   ]
  },
  {
   "cell_type": "code",
   "execution_count": null,
   "id": "05d635e4",
   "metadata": {},
   "outputs": [],
   "source": [
    "# READ FROM CRUD\n",
    "cursor = conexao.cursor()\n",
    "try:\n",
    "    \n",
    "    nome = \"Marcos Paulo3\"\n",
    "    email = \"mpaulo3@teste.com\"\n",
    "    telefone = \"11943328933\"\n",
    "    # CREATE\n",
    "    comando = f'INSERT INTO clients (nome_cliente, email_cliente, telefone_cliente) VALUES (\"{nome}\", \"{email}\", \"{telefone}\")'\n",
    "\n",
    "    # Para executar a query\n",
    "    cursor.execute(comando)\n",
    "\n",
    "    # Para popular os dados no banco\n",
    "    conexao.commit()\n",
    "\n",
    "    # FIM CRUD\n",
    "\n",
    "    cursor.close()\n",
    "    conexao.close()\n",
    "    print(f\"Cliente criado com sucesso!\")\n",
    "except Exception as e:\n",
    "    print(f\"Erro ao criar o cliente{e}\")\n",
    "    "
   ]
  }
 ],
 "metadata": {
  "kernelspec": {
   "display_name": ".venv",
   "language": "python",
   "name": "python3"
  },
  "language_info": {
   "codemirror_mode": {
    "name": "ipython",
    "version": 3
   },
   "file_extension": ".py",
   "mimetype": "text/x-python",
   "name": "python",
   "nbconvert_exporter": "python",
   "pygments_lexer": "ipython3",
   "version": "3.13.7"
  }
 },
 "nbformat": 4,
 "nbformat_minor": 5
}
