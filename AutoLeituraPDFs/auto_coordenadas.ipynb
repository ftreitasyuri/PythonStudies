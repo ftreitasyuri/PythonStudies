{
 "cells": [
  {
   "cell_type": "code",
   "execution_count": 1,
   "id": "9c9ccb04",
   "metadata": {},
   "outputs": [],
   "source": [
    "# Importando libs\n",
    "import os\n",
    "from openpyxl import Workbook\n",
    "import pdfplumber\n",
    "import re\n",
    "from datetime import datetime\n",
    "import unicodedata"
   ]
  },
  {
   "cell_type": "code",
   "execution_count": 5,
   "id": "066a8671",
   "metadata": {},
   "outputs": [
    {
     "name": "stdout",
     "output_type": "stream",
     "text": [
      "1\n"
     ]
    }
   ],
   "source": [
    "# Verificando a quantidade de arquivos\n",
    "try:\n",
    "    # diretorio = \"ArquivosChecklistsGeral\"    \n",
    "    diretorio = \"ArquivoTeste\"    \n",
    "    \n",
    "    arquivos = os.listdir(diretorio)\n",
    "    qtd_arq = len(arquivos)\n",
    "    print(qtd_arq)\n",
    "except Exception as e:\n",
    "    print(f\"Erro na leitura da pasta no caminho especificado {e}\")"
   ]
  },
  {
   "cell_type": "code",
   "execution_count": 7,
   "id": "3472de19",
   "metadata": {},
   "outputs": [
    {
     "name": "stdout",
     "output_type": "stream",
     "text": [
      "Impressão Gerada em: 28/08/2025 às 17:17\n",
      "CHECK LIST - PLATAFORMA\n",
      "FBUNISP - ID \n",
      "  DESCRIÇÃO: FR-QUA-012 Rev. 01\n",
      "UNILEVER\n",
      "Categoria\n",
      "Responsável Data Criação\n",
      "FBUNISP - \n",
      "FABIO RODRIGO ANDRADE TEIXEIRA 25/08/2025 23:36\n",
      "Operacional\n",
      "  Informações:\n",
      "ATENÇÃO: A Inspeção diária, realizada em 5 minutos, aumenta a segurança de \n",
      "todos da operação e garante uma maior disponibilidade da máquina. \n",
      "O colaborar deve preencher obrigatoriamente este check-list em todo inicio de turno \n",
      "ou, quando ocorrer a troca de usuário. \n",
      "Em caso de incidente desligue imediatamente a máquina, sinalize o local para evitar \n",
      "novos incidentes e comunique imediatamente Supervisor, Liderança ou Segurança do \n",
      "Trabalho.\n",
      "N° CheckList:\n",
      "3270975\n",
      "Data:\n",
      "25/08/2025\n",
      "Hora:\n",
      "23:36\n",
      "Responsável pela Inspeção:\n",
      "FABIO RODRIGO ANDRADE TEIXEIRA\n",
      "Área:\n",
      "Sabonetes\n",
      "Turno:\n",
      "T3\n",
      "Doca:\n",
      "2\n",
      "  Inspeção:\n",
      "Selecione:\n",
      ", Para itens checados, funcionando corretamente. \n",
      " , Para itens com anomalias encontradas no equipamento. \n",
      ", Item não aplicável ao equipamento. \n",
      "Caso haja   no ITEM inspecionado: SELECIONAR a opção  , \n",
      "IRREGULARIDADE\n",
      "Página 1 de 2\n"
     ]
    }
   ],
   "source": [
    "# Loop para ver o conteúdo do arquivo\n",
    "try:\n",
    "    for arq in arquivos:\n",
    "        with pdfplumber.open(diretorio + \"/\" + arq) as pdf:\n",
    "            \n",
    "            pagina = pdf.pages[0]\n",
    "            # texto_pdf = pagina.extract_text_lines()\n",
    "            texto_pdf = pagina.extract_text_simple()\n",
    "            print(texto_pdf)\n",
    "            \n",
    "except Exception as e:\n",
    "    print(f\"Erro: {e}\")"
   ]
  },
  {
   "cell_type": "code",
   "execution_count": null,
   "id": "924831f8",
   "metadata": {},
   "outputs": [],
   "source": [
    "try:\n",
    "    for arq in arquivos:\n",
    "        with pdfplumber.open(diretorio + \"/\" + arq) as pdf:\n",
    "            \n",
    "            pagina = pdf.pages[0]\n",
    "            texto_pdf = pagina.extract_text_lines()\n",
    "            print(texto_pdf)\n",
    "            \n",
    "except Exception as e:\n",
    "    print(f\"Erro: {e}\")"
   ]
  },
  {
   "cell_type": "code",
   "execution_count": null,
   "id": "2628a539",
   "metadata": {},
   "outputs": [],
   "source": [
    "# # Loop para ver o conteúdo do arquivo\n",
    "# try:\n",
    "        \n",
    "# except Exception as e:\n",
    "#     print(f\"Erro: {e}\")"
   ]
  }
 ],
 "metadata": {
  "kernelspec": {
   "display_name": ".venv",
   "language": "python",
   "name": "python3"
  },
  "language_info": {
   "codemirror_mode": {
    "name": "ipython",
    "version": 3
   },
   "file_extension": ".py",
   "mimetype": "text/x-python",
   "name": "python",
   "nbconvert_exporter": "python",
   "pygments_lexer": "ipython3",
   "version": "3.13.7"
  }
 },
 "nbformat": 4,
 "nbformat_minor": 5
}
