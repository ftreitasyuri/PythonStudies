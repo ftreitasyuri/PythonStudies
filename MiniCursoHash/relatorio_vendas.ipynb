{
 "cells": [
  {
   "cell_type": "code",
   "execution_count": 2,
   "id": "3f4cb770",
   "metadata": {},
   "outputs": [],
   "source": [
    "# Importar a base de dados\n",
    "import pandas as pd\n",
    "\n",
    "tabela_vendas = pd.read_excel(\"BasesDados/Vendas.xlsx\")"
   ]
  },
  {
   "cell_type": "code",
   "execution_count": 5,
   "id": "89e99f2d",
   "metadata": {},
   "outputs": [
    {
     "name": "stdout",
     "output_type": "stream",
     "text": [
      "        Código Venda       Data                     ID Loja           Produto  \\\n",
      "0                  1 2019-01-01          Iguatemi Esplanada    Sapato Estampa   \n",
      "1                  1 2019-01-01          Iguatemi Esplanada          Camiseta   \n",
      "2                  1 2019-01-01          Iguatemi Esplanada     Sapato Xadrez   \n",
      "3                  2 2019-01-02              Norte Shopping           Relógio   \n",
      "4                  2 2019-01-02              Norte Shopping      Chinelo Liso   \n",
      "...              ...        ...                         ...               ...   \n",
      "100994         69996 2019-12-26  Center Shopping Uberlândia    Short Listrado   \n",
      "100995         69996 2019-12-26  Center Shopping Uberlândia           Mochila   \n",
      "100996         69996 2019-12-26  Center Shopping Uberlândia  Pulseira Estampa   \n",
      "100997         69997 2019-12-26           Ribeirão Shopping   Camisa Listrado   \n",
      "100998         69997 2019-12-26           Ribeirão Shopping       Short Linho   \n",
      "\n",
      "        Quantidade  Valor Unitário  Valor Final  \n",
      "0                1             358          358  \n",
      "1                2             180          360  \n",
      "2                1             368          368  \n",
      "3                3             200          600  \n",
      "4                1              71           71  \n",
      "...            ...             ...          ...  \n",
      "100994           2             102          204  \n",
      "100995           4             270         1080  \n",
      "100996           1              87           87  \n",
      "100997           1             108          108  \n",
      "100998           2             133          266  \n",
      "\n",
      "[100999 rows x 7 columns]\n"
     ]
    }
   ],
   "source": [
    "# Visualizar a base de dados\n",
    "\n",
    "pd.set_option('display.max_columns', None)\n",
    "print(tabela_vendas)\n",
    "\n",
    "# Filtrando duas colunas 1ª forma\n",
    "# tabela_vendas = tabela_vendas[['ID Loja', 'Valor Final']]\n",
    "# print(tabela_vendas)\n"
   ]
  },
  {
   "cell_type": "code",
   "execution_count": 4,
   "id": "69b20e5b",
   "metadata": {},
   "outputs": [
    {
     "name": "stdout",
     "output_type": "stream",
     "text": [
      "                                  Valor Final\n",
      "ID Loja                                      \n",
      "Bourbon Shopping SP                   1726110\n",
      "Center Shopping Uberlândia            1668921\n",
      "Iguatemi Campinas                     1762419\n",
      "Iguatemi Esplanada                    1699681\n",
      "Norte Shopping                        1711968\n",
      "Novo Shopping Ribeirão Preto          1678225\n",
      "Palladium Shopping Curitiba           1721120\n",
      "Parque Dom Pedro Shopping             1631630\n",
      "Passei das Águas Shopping             1649014\n",
      "Ribeirão Shopping                     1707122\n",
      "Rio Mar Recife                        1722766\n",
      "Rio Mar Shopping Fortaleza            1698430\n",
      "Salvador Shopping                     1646739\n",
      "Shopping Barra                        1653103\n",
      "Shopping Center Interlagos            1640486\n",
      "Shopping Center Leste Aricanduva      1682870\n",
      "Shopping Eldorado                     1648111\n",
      "Shopping Ibirapuera                   1635060\n",
      "Shopping Iguatemi Fortaleza           1674824\n",
      "Shopping Midway Mall                  1590441\n",
      "Shopping Morumbi                      1586444\n",
      "Shopping Recife                       1624879\n",
      "Shopping SP Market                    1721763\n",
      "Shopping União de Osasco              1663770\n",
      "Shopping Vila Velha                   1731167\n"
     ]
    }
   ],
   "source": [
    "# Faturamento por loja\n",
    "faturamento_por_loja = tabela_vendas[['ID Loja', 'Valor Final']].groupby('ID Loja').sum()\n",
    "print(faturamento_por_loja)\n"
   ]
  },
  {
   "cell_type": "code",
   "execution_count": null,
   "id": "e2305847",
   "metadata": {},
   "outputs": [
    {
     "name": "stdout",
     "output_type": "stream",
     "text": [
      "                                  Quantidade\n",
      "ID Loja                                     \n",
      "Bourbon Shopping SP                     8863\n",
      "Center Shopping Uberlândia              8627\n",
      "Iguatemi Campinas                       8935\n",
      "Iguatemi Esplanada                      8580\n",
      "Norte Shopping                          9014\n",
      "Novo Shopping Ribeirão Preto            8751\n",
      "Palladium Shopping Curitiba             9091\n",
      "Parque Dom Pedro Shopping               8388\n",
      "Passei das Águas Shopping               8618\n",
      "Ribeirão Shopping                       8825\n",
      "Rio Mar Recife                          8863\n",
      "Rio Mar Shopping Fortaleza              8937\n",
      "Salvador Shopping                       8698\n",
      "Shopping Barra                          8638\n",
      "Shopping Center Interlagos              8675\n",
      "Shopping Center Leste Aricanduva        8938\n",
      "Shopping Eldorado                       8719\n",
      "Shopping Ibirapuera                     8723\n",
      "Shopping Iguatemi Fortaleza             8629\n",
      "Shopping Midway Mall                    8206\n",
      "Shopping Morumbi                        8508\n",
      "Shopping Recife                         8581\n",
      "Shopping SP Market                      8927\n",
      "Shopping União de Osasco                8730\n",
      "Shopping Vila Velha                     9224\n"
     ]
    }
   ],
   "source": [
    "\n",
    "# Quantidade de produtos vendidos por loja\n",
    "qtd_produtos_vendidos_por_loja = tabela_vendas[['ID Loja', 'Quantidade']].groupby('ID Loja').sum()\n",
    "print(qtd_produtos_vendidos_por_loja)\n",
    "\n"
   ]
  },
  {
   "cell_type": "code",
   "execution_count": null,
   "id": "35fefa6e",
   "metadata": {},
   "outputs": [
    {
     "name": "stdout",
     "output_type": "stream",
     "text": [
      "                                           0\n",
      "ID Loja                                     \n",
      "Bourbon Shopping SP               194.754598\n",
      "Center Shopping Uberlândia        193.453228\n",
      "Iguatemi Campinas                 197.248909\n",
      "Iguatemi Esplanada                198.098019\n",
      "Norte Shopping                    189.923231\n",
      "Novo Shopping Ribeirão Preto      191.775226\n",
      "Palladium Shopping Curitiba       189.321307\n",
      "Parque Dom Pedro Shopping         194.519552\n",
      "Passei das Águas Shopping         191.345324\n",
      "Ribeirão Shopping                 193.441586\n",
      "Rio Mar Recife                    194.377299\n",
      "Rio Mar Shopping Fortaleza        190.044758\n",
      "Salvador Shopping                 189.323868\n",
      "Shopping Barra                    191.375666\n",
      "Shopping Center Interlagos        189.105014\n",
      "Shopping Center Leste Aricanduva  188.282614\n",
      "Shopping Eldorado                 189.025232\n",
      "Shopping Ibirapuera               187.442394\n",
      "Shopping Iguatemi Fortaleza       194.092479\n",
      "Shopping Midway Mall              193.814404\n",
      "Shopping Morumbi                  186.464974\n",
      "Shopping Recife                   189.357767\n",
      "Shopping SP Market                192.871401\n",
      "Shopping União de Osasco          190.580756\n",
      "Shopping Vila Velha               187.680724\n"
     ]
    }
   ],
   "source": [
    "# Ticket médio por produto em cada loja\n",
    "# Isso significa saber qual foi o valor médio de um produto\n",
    "\n",
    "ticket_medio_por_loja = (faturamento_por_loja['Valor Final'] / qtd_produtos_vendidos_por_loja['Quantidade']).to_frame() # usando o to_frame para o retorno ser um df e não float\n",
    "print(ticket_medio_por_loja)\n"
   ]
  },
  {
   "cell_type": "code",
   "execution_count": null,
   "id": "5dd7a35e",
   "metadata": {},
   "outputs": [],
   "source": [
    "#Enviar email com o relatório com OUTLOOK\n",
    "\n",
    "import requests\n",
    "\n",
    "# Access Token obtido via OAuth2\n",
    "access_token = \"SEU_TOKEN_AQUI\"\n",
    "\n",
    "url = \"https://graph.microsoft.com/v1.0/me/sendMail\"\n",
    "headers = {\n",
    "    \"Authorization\": f\"Bearer {access_token}\",\n",
    "    \"Content-Type\": \"application/json\"\n",
    "}\n",
    "\n",
    "email_msg = {\n",
    "    \"message\": {\n",
    "        \"subject\": \"Teste via Microsoft Graph\",\n",
    "        \"body\": {\n",
    "            \"contentType\": \"HTML\",\n",
    "            \"content\": \"<p>Olá Yuri!</p><p>Este e-mail foi enviado via Microsoft Graph API.</p>\"\n",
    "        },\n",
    "        \"toRecipients\": [\n",
    "            {\"emailAddress\": {\"address\": \"destinatario@empresa.com\"}}\n",
    "        ]\n",
    "    }\n",
    "}\n",
    "\n",
    "response = requests.post(url, headers=headers, json=email_msg)\n",
    "\n",
    "if response.status_code == 202:\n",
    "    print(\"Email enviado com sucesso via Graph API!\")\n",
    "else:\n",
    "    print(\"Erro:\", response.text)\n"
   ]
  },
  {
   "cell_type": "code",
   "execution_count": null,
   "id": "63f4d58b",
   "metadata": {},
   "outputs": [],
   "source": [
    "# Enviar email com o relatório com GMAIL\n",
    "# Link https://www.hashtagtreinamentos.com/envio-de-e-mail-pelo-gmail-em-python?conversion=base-ex-go-post-novos&gad_source=1&gad_campaignid=22810243158&gbraid=0AAAAADLlh88lGEZaNCZnYsu2dKODUpWgH&gclid=Cj0KCQjwzaXFBhDlARIsAFPv-u-epLvnjiGZ3OvbwG8W0rOcMNu5Xo1udp9ecSlJtpHnWwS9KtXev-oaAmIuEALw_wcB\n",
    "\n",
    "\n",
    "# MAIL_MAILER=smtp\n",
    "# MAIL_HOST=smtp.gmail.com\n",
    "# MAIL_PORT=587\n",
    "# MAIL_USERNAME=smarttechxiii@gmail.com\n",
    "# MAIL_PASSWORD=dzzpfefbqoxfzrpl\n",
    "# MAIL_ENCRYPTION=tls\n",
    "# MAIL_FROM_ADDRESS=smarttechxiii@gmail.com\n",
    "# MAIL_FROM_NAME\"${APP_NAME}\"\n",
    "\n",
    "import smtplib\n",
    "import email.message\n",
    "\n",
    "\n",
    "# Função enviar email\n",
    "def enviar_email():\n",
    "    corpo_email = \"\"\"\n",
    "    <p>Parágrafo1</p>\n",
    "    <p>Parágrafo2</p>\n",
    "    \"\"\"\n",
    "    \n",
    "    msg = email.message.Message()\n",
    "    msg['Subject'] = \"Assunto\"\n",
    "    msg['From'] = 'smarttechxiii@gmail.com'\n",
    "    msg['To'] = 'smarttechxiii@gmail.com'\n",
    "    password = 'minhasenha'    \n",
    "    msg.add_header('Content-Type', 'text/html')\n",
    "    msg.set_payload(corpo_email)\n",
    "    \n",
    "    s = smtplib.SMTP(\"smtp.gmail.com: 587\")\n",
    "    s = smtplib.SMTP(\"smtp.gmail.com\", 587)\n",
    "    s.starttls()\n",
    "    # Login Credentials for sending the mail\n",
    "    \n",
    "    s.login(msg['From'], password)\n",
    "    s.sendmail(msg['From'], [msg['To']], msg.as_string().encode('utf-8'))\n",
    "    print(\"Email enviado!\")\n",
    "    \n"
   ]
  },
  {
   "cell_type": "code",
   "execution_count": 16,
   "id": "985af2f2",
   "metadata": {},
   "outputs": [
    {
     "ename": "TimeoutError",
     "evalue": "[WinError 10060] Uma tentativa de conexão falhou porque o componente conectado não respondeu\r\ncorretamente após um período de tempo ou a conexão estabelecida falhou\r\nporque o host conectado não respondeu",
     "output_type": "error",
     "traceback": [
      "\u001b[31m---------------------------------------------------------------------------\u001b[39m",
      "\u001b[31mTimeoutError\u001b[39m                              Traceback (most recent call last)",
      "\u001b[36mCell\u001b[39m\u001b[36m \u001b[39m\u001b[32mIn[16]\u001b[39m\u001b[32m, line 1\u001b[39m\n\u001b[32m----> \u001b[39m\u001b[32m1\u001b[39m \u001b[43menviar_email\u001b[49m\u001b[43m(\u001b[49m\u001b[43m)\u001b[49m\n",
      "\u001b[36mCell\u001b[39m\u001b[36m \u001b[39m\u001b[32mIn[15]\u001b[39m\u001b[32m, line 33\u001b[39m, in \u001b[36menviar_email\u001b[39m\u001b[34m()\u001b[39m\n\u001b[32m     30\u001b[39m msg.add_header(\u001b[33m'\u001b[39m\u001b[33mContent-Type\u001b[39m\u001b[33m'\u001b[39m, \u001b[33m'\u001b[39m\u001b[33mtext/html\u001b[39m\u001b[33m'\u001b[39m)\n\u001b[32m     31\u001b[39m msg.set_payload(corpo_email)\n\u001b[32m---> \u001b[39m\u001b[32m33\u001b[39m s = \u001b[43msmtplib\u001b[49m\u001b[43m.\u001b[49m\u001b[43mSMTP\u001b[49m\u001b[43m(\u001b[49m\u001b[33;43m\"\u001b[39;49m\u001b[33;43msmtp.gmail.com: 587\u001b[39;49m\u001b[33;43m\"\u001b[39;49m\u001b[43m)\u001b[49m\n\u001b[32m     34\u001b[39m s.starttls()\n\u001b[32m     35\u001b[39m \u001b[38;5;66;03m# Login Credentials for sending the mail\u001b[39;00m\n",
      "\u001b[36mFile \u001b[39m\u001b[32m~\\AppData\\Local\\Programs\\Python\\Python313\\Lib\\smtplib.py:255\u001b[39m, in \u001b[36mSMTP.__init__\u001b[39m\u001b[34m(self, host, port, local_hostname, timeout, source_address)\u001b[39m\n\u001b[32m    252\u001b[39m \u001b[38;5;28mself\u001b[39m._auth_challenge_count = \u001b[32m0\u001b[39m\n\u001b[32m    254\u001b[39m \u001b[38;5;28;01mif\u001b[39;00m host:\n\u001b[32m--> \u001b[39m\u001b[32m255\u001b[39m     (code, msg) = \u001b[38;5;28;43mself\u001b[39;49m\u001b[43m.\u001b[49m\u001b[43mconnect\u001b[49m\u001b[43m(\u001b[49m\u001b[43mhost\u001b[49m\u001b[43m,\u001b[49m\u001b[43m \u001b[49m\u001b[43mport\u001b[49m\u001b[43m)\u001b[49m\n\u001b[32m    256\u001b[39m     \u001b[38;5;28;01mif\u001b[39;00m code != \u001b[32m220\u001b[39m:\n\u001b[32m    257\u001b[39m         \u001b[38;5;28mself\u001b[39m.close()\n",
      "\u001b[36mFile \u001b[39m\u001b[32m~\\AppData\\Local\\Programs\\Python\\Python313\\Lib\\smtplib.py:341\u001b[39m, in \u001b[36mSMTP.connect\u001b[39m\u001b[34m(self, host, port, source_address)\u001b[39m\n\u001b[32m    339\u001b[39m     port = \u001b[38;5;28mself\u001b[39m.default_port\n\u001b[32m    340\u001b[39m sys.audit(\u001b[33m\"\u001b[39m\u001b[33msmtplib.connect\u001b[39m\u001b[33m\"\u001b[39m, \u001b[38;5;28mself\u001b[39m, host, port)\n\u001b[32m--> \u001b[39m\u001b[32m341\u001b[39m \u001b[38;5;28mself\u001b[39m.sock = \u001b[38;5;28;43mself\u001b[39;49m\u001b[43m.\u001b[49m\u001b[43m_get_socket\u001b[49m\u001b[43m(\u001b[49m\u001b[43mhost\u001b[49m\u001b[43m,\u001b[49m\u001b[43m \u001b[49m\u001b[43mport\u001b[49m\u001b[43m,\u001b[49m\u001b[43m \u001b[49m\u001b[38;5;28;43mself\u001b[39;49m\u001b[43m.\u001b[49m\u001b[43mtimeout\u001b[49m\u001b[43m)\u001b[49m\n\u001b[32m    342\u001b[39m \u001b[38;5;28mself\u001b[39m.file = \u001b[38;5;28;01mNone\u001b[39;00m\n\u001b[32m    343\u001b[39m (code, msg) = \u001b[38;5;28mself\u001b[39m.getreply()\n",
      "\u001b[36mFile \u001b[39m\u001b[32m~\\AppData\\Local\\Programs\\Python\\Python313\\Lib\\smtplib.py:312\u001b[39m, in \u001b[36mSMTP._get_socket\u001b[39m\u001b[34m(self, host, port, timeout)\u001b[39m\n\u001b[32m    310\u001b[39m \u001b[38;5;28;01mif\u001b[39;00m \u001b[38;5;28mself\u001b[39m.debuglevel > \u001b[32m0\u001b[39m:\n\u001b[32m    311\u001b[39m     \u001b[38;5;28mself\u001b[39m._print_debug(\u001b[33m'\u001b[39m\u001b[33mconnect: to\u001b[39m\u001b[33m'\u001b[39m, (host, port), \u001b[38;5;28mself\u001b[39m.source_address)\n\u001b[32m--> \u001b[39m\u001b[32m312\u001b[39m \u001b[38;5;28;01mreturn\u001b[39;00m \u001b[43msocket\u001b[49m\u001b[43m.\u001b[49m\u001b[43mcreate_connection\u001b[49m\u001b[43m(\u001b[49m\u001b[43m(\u001b[49m\u001b[43mhost\u001b[49m\u001b[43m,\u001b[49m\u001b[43m \u001b[49m\u001b[43mport\u001b[49m\u001b[43m)\u001b[49m\u001b[43m,\u001b[49m\u001b[43m \u001b[49m\u001b[43mtimeout\u001b[49m\u001b[43m,\u001b[49m\n\u001b[32m    313\u001b[39m \u001b[43m                                \u001b[49m\u001b[38;5;28;43mself\u001b[39;49m\u001b[43m.\u001b[49m\u001b[43msource_address\u001b[49m\u001b[43m)\u001b[49m\n",
      "\u001b[36mFile \u001b[39m\u001b[32m~\\AppData\\Local\\Programs\\Python\\Python313\\Lib\\socket.py:864\u001b[39m, in \u001b[36mcreate_connection\u001b[39m\u001b[34m(address, timeout, source_address, all_errors)\u001b[39m\n\u001b[32m    862\u001b[39m \u001b[38;5;28;01mtry\u001b[39;00m:\n\u001b[32m    863\u001b[39m     \u001b[38;5;28;01mif\u001b[39;00m \u001b[38;5;129;01mnot\u001b[39;00m all_errors:\n\u001b[32m--> \u001b[39m\u001b[32m864\u001b[39m         \u001b[38;5;28;01mraise\u001b[39;00m exceptions[\u001b[32m0\u001b[39m]\n\u001b[32m    865\u001b[39m     \u001b[38;5;28;01mraise\u001b[39;00m ExceptionGroup(\u001b[33m\"\u001b[39m\u001b[33mcreate_connection failed\u001b[39m\u001b[33m\"\u001b[39m, exceptions)\n\u001b[32m    866\u001b[39m \u001b[38;5;28;01mfinally\u001b[39;00m:\n\u001b[32m    867\u001b[39m     \u001b[38;5;66;03m# Break explicitly a reference cycle\u001b[39;00m\n",
      "\u001b[36mFile \u001b[39m\u001b[32m~\\AppData\\Local\\Programs\\Python\\Python313\\Lib\\socket.py:849\u001b[39m, in \u001b[36mcreate_connection\u001b[39m\u001b[34m(address, timeout, source_address, all_errors)\u001b[39m\n\u001b[32m    847\u001b[39m \u001b[38;5;28;01mif\u001b[39;00m source_address:\n\u001b[32m    848\u001b[39m     sock.bind(source_address)\n\u001b[32m--> \u001b[39m\u001b[32m849\u001b[39m \u001b[43msock\u001b[49m\u001b[43m.\u001b[49m\u001b[43mconnect\u001b[49m\u001b[43m(\u001b[49m\u001b[43msa\u001b[49m\u001b[43m)\u001b[49m\n\u001b[32m    850\u001b[39m \u001b[38;5;66;03m# Break explicitly a reference cycle\u001b[39;00m\n\u001b[32m    851\u001b[39m exceptions.clear()\n",
      "\u001b[31mTimeoutError\u001b[39m: [WinError 10060] Uma tentativa de conexão falhou porque o componente conectado não respondeu\r\ncorretamente após um período de tempo ou a conexão estabelecida falhou\r\nporque o host conectado não respondeu"
     ]
    }
   ],
   "source": [
    "enviar_email()"
   ]
  }
 ],
 "metadata": {
  "kernelspec": {
   "display_name": ".venv",
   "language": "python",
   "name": "python3"
  },
  "language_info": {
   "codemirror_mode": {
    "name": "ipython",
    "version": 3
   },
   "file_extension": ".py",
   "mimetype": "text/x-python",
   "name": "python",
   "nbconvert_exporter": "python",
   "pygments_lexer": "ipython3",
   "version": "3.13.7"
  }
 },
 "nbformat": 4,
 "nbformat_minor": 5
}
