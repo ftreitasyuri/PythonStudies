{
 "cells": [
  {
   "cell_type": "code",
   "execution_count": 2,
   "id": "3f4cb770",
   "metadata": {},
   "outputs": [],
   "source": [
    "# Importar a base de dados\n",
    "import pandas as pd\n",
    "\n",
    "tabela_vendas = pd.read_excel(\"BasesDados/Vendas.xlsx\")"
   ]
  },
  {
   "cell_type": "code",
   "execution_count": 5,
   "id": "89e99f2d",
   "metadata": {},
   "outputs": [
    {
     "name": "stdout",
     "output_type": "stream",
     "text": [
      "        Código Venda       Data                     ID Loja           Produto  \\\n",
      "0                  1 2019-01-01          Iguatemi Esplanada    Sapato Estampa   \n",
      "1                  1 2019-01-01          Iguatemi Esplanada          Camiseta   \n",
      "2                  1 2019-01-01          Iguatemi Esplanada     Sapato Xadrez   \n",
      "3                  2 2019-01-02              Norte Shopping           Relógio   \n",
      "4                  2 2019-01-02              Norte Shopping      Chinelo Liso   \n",
      "...              ...        ...                         ...               ...   \n",
      "100994         69996 2019-12-26  Center Shopping Uberlândia    Short Listrado   \n",
      "100995         69996 2019-12-26  Center Shopping Uberlândia           Mochila   \n",
      "100996         69996 2019-12-26  Center Shopping Uberlândia  Pulseira Estampa   \n",
      "100997         69997 2019-12-26           Ribeirão Shopping   Camisa Listrado   \n",
      "100998         69997 2019-12-26           Ribeirão Shopping       Short Linho   \n",
      "\n",
      "        Quantidade  Valor Unitário  Valor Final  \n",
      "0                1             358          358  \n",
      "1                2             180          360  \n",
      "2                1             368          368  \n",
      "3                3             200          600  \n",
      "4                1              71           71  \n",
      "...            ...             ...          ...  \n",
      "100994           2             102          204  \n",
      "100995           4             270         1080  \n",
      "100996           1              87           87  \n",
      "100997           1             108          108  \n",
      "100998           2             133          266  \n",
      "\n",
      "[100999 rows x 7 columns]\n"
     ]
    }
   ],
   "source": [
    "# Visualizar a base de dados\n",
    "\n",
    "pd.set_option('display.max_columns', None)\n",
    "print(tabela_vendas)\n",
    "\n",
    "# Filtrando duas colunas 1ª forma\n",
    "# tabela_vendas = tabela_vendas[['ID Loja', 'Valor Final']]\n",
    "# print(tabela_vendas)\n"
   ]
  },
  {
   "cell_type": "code",
   "execution_count": 4,
   "id": "69b20e5b",
   "metadata": {},
   "outputs": [
    {
     "name": "stdout",
     "output_type": "stream",
     "text": [
      "                                  Valor Final\n",
      "ID Loja                                      \n",
      "Bourbon Shopping SP                   1726110\n",
      "Center Shopping Uberlândia            1668921\n",
      "Iguatemi Campinas                     1762419\n",
      "Iguatemi Esplanada                    1699681\n",
      "Norte Shopping                        1711968\n",
      "Novo Shopping Ribeirão Preto          1678225\n",
      "Palladium Shopping Curitiba           1721120\n",
      "Parque Dom Pedro Shopping             1631630\n",
      "Passei das Águas Shopping             1649014\n",
      "Ribeirão Shopping                     1707122\n",
      "Rio Mar Recife                        1722766\n",
      "Rio Mar Shopping Fortaleza            1698430\n",
      "Salvador Shopping                     1646739\n",
      "Shopping Barra                        1653103\n",
      "Shopping Center Interlagos            1640486\n",
      "Shopping Center Leste Aricanduva      1682870\n",
      "Shopping Eldorado                     1648111\n",
      "Shopping Ibirapuera                   1635060\n",
      "Shopping Iguatemi Fortaleza           1674824\n",
      "Shopping Midway Mall                  1590441\n",
      "Shopping Morumbi                      1586444\n",
      "Shopping Recife                       1624879\n",
      "Shopping SP Market                    1721763\n",
      "Shopping União de Osasco              1663770\n",
      "Shopping Vila Velha                   1731167\n"
     ]
    }
   ],
   "source": [
    "# Faturamento por loja\n",
    "faturamento_por_loja = tabela_vendas[['ID Loja', 'Valor Final']].groupby('ID Loja').sum()\n",
    "print(faturamento_por_loja)\n"
   ]
  },
  {
   "cell_type": "code",
   "execution_count": null,
   "id": "e2305847",
   "metadata": {},
   "outputs": [
    {
     "name": "stdout",
     "output_type": "stream",
     "text": [
      "                                  Quantidade\n",
      "ID Loja                                     \n",
      "Bourbon Shopping SP                     8863\n",
      "Center Shopping Uberlândia              8627\n",
      "Iguatemi Campinas                       8935\n",
      "Iguatemi Esplanada                      8580\n",
      "Norte Shopping                          9014\n",
      "Novo Shopping Ribeirão Preto            8751\n",
      "Palladium Shopping Curitiba             9091\n",
      "Parque Dom Pedro Shopping               8388\n",
      "Passei das Águas Shopping               8618\n",
      "Ribeirão Shopping                       8825\n",
      "Rio Mar Recife                          8863\n",
      "Rio Mar Shopping Fortaleza              8937\n",
      "Salvador Shopping                       8698\n",
      "Shopping Barra                          8638\n",
      "Shopping Center Interlagos              8675\n",
      "Shopping Center Leste Aricanduva        8938\n",
      "Shopping Eldorado                       8719\n",
      "Shopping Ibirapuera                     8723\n",
      "Shopping Iguatemi Fortaleza             8629\n",
      "Shopping Midway Mall                    8206\n",
      "Shopping Morumbi                        8508\n",
      "Shopping Recife                         8581\n",
      "Shopping SP Market                      8927\n",
      "Shopping União de Osasco                8730\n",
      "Shopping Vila Velha                     9224\n"
     ]
    }
   ],
   "source": [
    "\n",
    "# Quantidade de produtos vendidos por loja\n",
    "qtd_produtos_vendidos_por_loja = tabela_vendas[['ID Loja', 'Quantidade']].groupby('ID Loja').sum()\n",
    "print(qtd_produtos_vendidos_por_loja)\n",
    "\n"
   ]
  },
  {
   "cell_type": "code",
   "execution_count": 7,
   "id": "35fefa6e",
   "metadata": {},
   "outputs": [
    {
     "name": "stdout",
     "output_type": "stream",
     "text": [
      "ID Loja\n",
      "Bourbon Shopping SP                 194.754598\n",
      "Center Shopping Uberlândia          193.453228\n",
      "Iguatemi Campinas                   197.248909\n",
      "Iguatemi Esplanada                  198.098019\n",
      "Norte Shopping                      189.923231\n",
      "Novo Shopping Ribeirão Preto        191.775226\n",
      "Palladium Shopping Curitiba         189.321307\n",
      "Parque Dom Pedro Shopping           194.519552\n",
      "Passei das Águas Shopping           191.345324\n",
      "Ribeirão Shopping                   193.441586\n",
      "Rio Mar Recife                      194.377299\n",
      "Rio Mar Shopping Fortaleza          190.044758\n",
      "Salvador Shopping                   189.323868\n",
      "Shopping Barra                      191.375666\n",
      "Shopping Center Interlagos          189.105014\n",
      "Shopping Center Leste Aricanduva    188.282614\n",
      "Shopping Eldorado                   189.025232\n",
      "Shopping Ibirapuera                 187.442394\n",
      "Shopping Iguatemi Fortaleza         194.092479\n",
      "Shopping Midway Mall                193.814404\n",
      "Shopping Morumbi                    186.464974\n",
      "Shopping Recife                     189.357767\n",
      "Shopping SP Market                  192.871401\n",
      "Shopping União de Osasco            190.580756\n",
      "Shopping Vila Velha                 187.680724\n",
      "dtype: float64\n"
     ]
    }
   ],
   "source": [
    "# Ticket médio por produto em cada loja\n",
    "# Isso significa saber qual foi o valor médio de um produto\n",
    "\n",
    "ticket_medio_por_loja = faturamento_por_loja['Valor Final'] / qtd_produtos_vendidos_por_loja['Quantidade']\n",
    "print(ticket_medio_por_loja)\n",
    "# Enviar email com o relatório "
   ]
  },
  {
   "cell_type": "code",
   "execution_count": null,
   "id": "63f4d58b",
   "metadata": {},
   "outputs": [],
   "source": []
  }
 ],
 "metadata": {
  "kernelspec": {
   "display_name": ".venv",
   "language": "python",
   "name": "python3"
  },
  "language_info": {
   "codemirror_mode": {
    "name": "ipython",
    "version": 3
   },
   "file_extension": ".py",
   "mimetype": "text/x-python",
   "name": "python",
   "nbconvert_exporter": "python",
   "pygments_lexer": "ipython3",
   "version": "3.13.7"
  }
 },
 "nbformat": 4,
 "nbformat_minor": 5
}
